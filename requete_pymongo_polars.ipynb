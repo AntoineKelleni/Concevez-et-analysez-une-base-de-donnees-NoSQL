{
 "cells": [
  {
   "cell_type": "code",
   "execution_count": null,
   "id": "4bd77cee",
   "metadata": {},
   "outputs": [],
   "source": [
    "from pymongo import MongoClient\n",
    "import polars as pl\n",
    "import json, re\n",
    "import pandas as pd\n"
   ]
  },
  {
   "cell_type": "code",
   "execution_count": null,
   "id": "f1fb1a82",
   "metadata": {},
   "outputs": [],
   "source": [
    "# Connexion au serveur local MongoDB\n",
    "client = MongoClient(\"mongodb://localhost:27017\")\n",
    "\n",
    "# Sélection de la base de données\n",
    "db = client[\"netcites\"]\n",
    "\n",
    "# Sélection de la collection\n",
    "col = db[\"logements\"]"
   ]
  },
  {
   "cell_type": "code",
   "execution_count": null,
   "id": "0962c440",
   "metadata": {},
   "outputs": [
    {
     "name": "stdout",
     "output_type": "stream",
     "text": [
      "Bases disponibles : ['admin', 'config', 'local', 'ma_bd_mongoDB_migration', 'netcites']\n",
      "Nombre de documents : 95885\n"
     ]
    }
   ],
   "source": [
    "print(\"Bases disponibles :\", client.list_database_names())\n",
    "print(\"Nombre de documents :\", col.count_documents({}))\n"
   ]
  },
  {
   "cell_type": "code",
   "execution_count": null,
   "id": "1837d7d2",
   "metadata": {},
   "outputs": [
    {
     "name": "stdout",
     "output_type": "stream",
     "text": [
      "Exemple de document : {'_id': ObjectId('68e8e20eca89cc237f6b7f6c'), 'id': 80260, 'listing_url': 'https://www.airbnb.com/rooms/80260', 'scrape_id': 20240610195007, 'last_scraped': '2024-06-13', 'source': 'previous scrape', 'name': \"Nice studio in Jourdain's village\", 'description': '', 'neighborhood_overview': '', 'picture_url': 'https://a0.muscache.com/pictures/716553/6c14f251_original.jpg', 'host_id': 333548, 'host_url': 'https://www.airbnb.com/users/show/333548', 'host_name': 'Charlotte', 'host_since': '2011-01-03', 'host_location': 'Paris, France', 'host_about': \"My name is Charlotte, I'm 26 and I study cinema production. I'll be gone the whole year to study in Grenoble and that's my father Jean Luc, who will keep an eye on my little studio and take care of you. \\n\", 'host_response_time': 'N/A', 'host_response_rate': 'N/A', 'host_acceptance_rate': 'N/A', 'host_is_superhost': 'f', 'host_thumbnail_url': 'https://a0.muscache.com/im/users/333548/profile_pic/1350320876/original.jpg?aki_policy=profile_small', 'host_picture_url': 'https://a0.muscache.com/im/users/333548/profile_pic/1350320876/original.jpg?aki_policy=profile_x_medium', 'host_neighbourhood': 'Buttes-Chaumont - Belleville', 'host_listings_count': 1, 'host_total_listings_count': 1, 'host_verifications': \"['email', 'phone']\", 'host_has_profile_pic': 't', 'host_identity_verified': 't', 'neighbourhood': '', 'neighbourhood_cleansed': 'Ménilmontant', 'neighbourhood_group_cleansed': '', 'latitude': 48.87131, 'longitude': 2.38848, 'property_type': 'Entire rental unit', 'room_type': 'Entire home/apt', 'accommodates': 3, 'bathrooms': '', 'bathrooms_text': '1 bath', 'bedrooms': 1, 'beds': '', 'amenities': '[\"Hangers\", \"Essentials\", \"Wifi\", \"Dishes and silverware\", \"Dedicated workspace\", \"Hair dryer\", \"Kitchen\", \"Shampoo\", \"Pets allowed\", \"Heating\"]', 'price': '', 'minimum_nights': 2, 'maximum_nights': 730, 'minimum_minimum_nights': 2, 'maximum_minimum_nights': 2, 'minimum_maximum_nights': 730, 'maximum_maximum_nights': 730, 'minimum_nights_avg_ntm': 2.0, 'maximum_nights_avg_ntm': 730.0, 'calendar_updated': '', 'has_availability': 't', 'availability_30': 0, 'availability_60': 0, 'availability_90': 0, 'availability_365': 0, 'calendar_last_scraped': '2024-06-13', 'number_of_reviews': 206, 'number_of_reviews_ltm': 0, 'number_of_reviews_l30d': 0, 'first_review': '2011-04-18', 'last_review': '2021-10-03', 'review_scores_rating': 4.63, 'review_scores_accuracy': 4.61, 'review_scores_cleanliness': 4.75, 'review_scores_checkin': 4.85, 'review_scores_communication': 4.78, 'review_scores_location': 4.61, 'review_scores_value': 4.64, 'license': 7512005340473, 'instant_bookable': 'f', 'calculated_host_listings_count': 1, 'calculated_host_listings_count_entire_homes': 1, 'calculated_host_listings_count_private_rooms': 0, 'calculated_host_listings_count_shared_rooms': 0, 'reviews_per_month': 1.29}\n"
     ]
    }
   ],
   "source": [
    "print(\"Exemple de document :\", col.find_one())"
   ]
  },
  {
   "cell_type": "code",
   "execution_count": null,
   "id": "24b4c2bc",
   "metadata": {},
   "outputs": [],
   "source": [
    "# Fonction pour afficher les colonnes d'un document\n",
    "\n",
    "def peek_columns(col, match=None, proj=None):\n",
    "    doc = col.find_one(match or {}, proj)\n",
    "    if not doc:\n",
    "        print(\"Aucun document pour ce filtre/projection.\")\n",
    "        return []\n",
    "    cols = [k for k in doc.keys() if k != \"_id\"]\n",
    "    print(f\"Colonnes renvoyées ({len(cols)}): {cols}\")\n",
    "    return cols"
   ]
  },
  {
   "cell_type": "code",
   "execution_count": null,
   "id": "bb27d1f7",
   "metadata": {},
   "outputs": [],
   "source": [
    "# Fonction pour afficher un échantillon de documents\n",
    "\n",
    "def to_float(x):\n",
    "    if x is None or x == \"\":\n",
    "        return None\n",
    "    if isinstance(x, (int, float)):\n",
    "        return float(x)\n",
    "    if isinstance(x, str):\n",
    "        x = re.sub(r\"[^\\d\\.\\-]\", \"\", x)\n",
    "        if x == \"\":\n",
    "            return None\n",
    "        try:\n",
    "            return float(x)\n",
    "        except:\n",
    "            return None\n",
    "    return None"
   ]
  },
  {
   "cell_type": "code",
   "execution_count": null,
   "id": "afe44c08",
   "metadata": {},
   "outputs": [],
   "source": [
    "# Normalisation des valeurs superhost\n",
    "\n",
    "def norm_superhost(x):\n",
    "    if x is None or x == \"\": return None\n",
    "    s = str(x).strip().lower()\n",
    "    if s in (\"t\",\"true\",\"1\",\"yes\",\"y\"): return \"superhost\"\n",
    "    if s in (\"f\",\"false\",\"0\",\"no\",\"n\"): return \"non_superhost\"\n",
    "    return None"
   ]
  },
  {
   "cell_type": "code",
   "execution_count": null,
   "id": "2e150bfa",
   "metadata": {},
   "outputs": [],
   "source": [
    "# Chargement des données dans un DataFrame Polars\n",
    "rows = ( {k: (json.dumps(v, ensure_ascii=False) if isinstance(v,(dict,list)) else (None if v==\"\" else v))\n",
    "          for k,v in doc.items()} for doc in col.find({}, {\"_id\":0}) )\n",
    "df = pl.from_dicts(list(rows), infer_schema_length=10000)\n"
   ]
  },
  {
   "cell_type": "code",
   "execution_count": null,
   "id": "e3479f3c",
   "metadata": {},
   "outputs": [
    {
     "data": {
      "text/plain": [
       "['id',\n",
       " 'listing_url',\n",
       " 'scrape_id',\n",
       " 'last_scraped',\n",
       " 'source',\n",
       " 'name',\n",
       " 'description',\n",
       " 'neighborhood_overview',\n",
       " 'picture_url',\n",
       " 'host_id',\n",
       " 'host_url',\n",
       " 'host_name',\n",
       " 'host_since',\n",
       " 'host_location',\n",
       " 'host_about',\n",
       " 'host_response_time',\n",
       " 'host_response_rate',\n",
       " 'host_acceptance_rate',\n",
       " 'host_is_superhost',\n",
       " 'host_thumbnail_url',\n",
       " 'host_picture_url',\n",
       " 'host_neighbourhood',\n",
       " 'host_listings_count',\n",
       " 'host_total_listings_count',\n",
       " 'host_verifications',\n",
       " 'host_has_profile_pic',\n",
       " 'host_identity_verified',\n",
       " 'neighbourhood',\n",
       " 'neighbourhood_cleansed',\n",
       " 'neighbourhood_group_cleansed',\n",
       " 'latitude',\n",
       " 'longitude',\n",
       " 'property_type',\n",
       " 'room_type',\n",
       " 'accommodates',\n",
       " 'bathrooms',\n",
       " 'bathrooms_text',\n",
       " 'bedrooms',\n",
       " 'beds',\n",
       " 'amenities',\n",
       " 'price',\n",
       " 'minimum_nights',\n",
       " 'maximum_nights',\n",
       " 'minimum_minimum_nights',\n",
       " 'maximum_minimum_nights',\n",
       " 'minimum_maximum_nights',\n",
       " 'maximum_maximum_nights',\n",
       " 'minimum_nights_avg_ntm',\n",
       " 'maximum_nights_avg_ntm',\n",
       " 'calendar_updated',\n",
       " 'has_availability',\n",
       " 'availability_30',\n",
       " 'availability_60',\n",
       " 'availability_90',\n",
       " 'availability_365',\n",
       " 'calendar_last_scraped',\n",
       " 'number_of_reviews',\n",
       " 'number_of_reviews_ltm',\n",
       " 'number_of_reviews_l30d',\n",
       " 'first_review',\n",
       " 'last_review',\n",
       " 'review_scores_rating',\n",
       " 'review_scores_accuracy',\n",
       " 'review_scores_cleanliness',\n",
       " 'review_scores_checkin',\n",
       " 'review_scores_communication',\n",
       " 'review_scores_location',\n",
       " 'review_scores_value',\n",
       " 'license',\n",
       " 'instant_bookable',\n",
       " 'calculated_host_listings_count',\n",
       " 'calculated_host_listings_count_entire_homes',\n",
       " 'calculated_host_listings_count_private_rooms',\n",
       " 'calculated_host_listings_count_shared_rooms',\n",
       " 'reviews_per_month']"
      ]
     },
     "metadata": {},
     "output_type": "display_data"
    },
    {
     "name": "stdout",
     "output_type": "stream",
     "text": [
      "Aperçu des données :\n"
     ]
    },
    {
     "data": {
      "text/html": [
       "<div><style>\n",
       ".dataframe > thead > tr,\n",
       ".dataframe > tbody > tr {\n",
       "  text-align: right;\n",
       "  white-space: pre-wrap;\n",
       "}\n",
       "</style>\n",
       "<small>shape: (5, 75)</small><table border=\"1\" class=\"dataframe\"><thead><tr><th>id</th><th>listing_url</th><th>scrape_id</th><th>last_scraped</th><th>source</th><th>name</th><th>description</th><th>neighborhood_overview</th><th>picture_url</th><th>host_id</th><th>host_url</th><th>host_name</th><th>host_since</th><th>host_location</th><th>host_about</th><th>host_response_time</th><th>host_response_rate</th><th>host_acceptance_rate</th><th>host_is_superhost</th><th>host_thumbnail_url</th><th>host_picture_url</th><th>host_neighbourhood</th><th>host_listings_count</th><th>host_total_listings_count</th><th>host_verifications</th><th>host_has_profile_pic</th><th>host_identity_verified</th><th>neighbourhood</th><th>neighbourhood_cleansed</th><th>neighbourhood_group_cleansed</th><th>latitude</th><th>longitude</th><th>property_type</th><th>room_type</th><th>accommodates</th><th>bathrooms</th><th>bathrooms_text</th><th>bedrooms</th><th>beds</th><th>amenities</th><th>price</th><th>minimum_nights</th><th>maximum_nights</th><th>minimum_minimum_nights</th><th>maximum_minimum_nights</th><th>minimum_maximum_nights</th><th>maximum_maximum_nights</th><th>minimum_nights_avg_ntm</th><th>maximum_nights_avg_ntm</th><th>calendar_updated</th><th>has_availability</th><th>availability_30</th><th>availability_60</th><th>availability_90</th><th>availability_365</th><th>calendar_last_scraped</th><th>number_of_reviews</th><th>number_of_reviews_ltm</th><th>number_of_reviews_l30d</th><th>first_review</th><th>last_review</th><th>review_scores_rating</th><th>review_scores_accuracy</th><th>review_scores_cleanliness</th><th>review_scores_checkin</th><th>review_scores_communication</th><th>review_scores_location</th><th>review_scores_value</th><th>license</th><th>instant_bookable</th><th>calculated_host_listings_count</th><th>calculated_host_listings_count_entire_homes</th><th>calculated_host_listings_count_private_rooms</th><th>calculated_host_listings_count_shared_rooms</th><th>reviews_per_month</th></tr><tr><td>i64</td><td>str</td><td>i64</td><td>str</td><td>str</td><td>str</td><td>str</td><td>str</td><td>str</td><td>i64</td><td>str</td><td>str</td><td>str</td><td>str</td><td>str</td><td>str</td><td>str</td><td>str</td><td>str</td><td>str</td><td>str</td><td>str</td><td>i64</td><td>i64</td><td>str</td><td>str</td><td>str</td><td>str</td><td>str</td><td>null</td><td>f64</td><td>f64</td><td>str</td><td>str</td><td>i64</td><td>f64</td><td>str</td><td>i64</td><td>i64</td><td>str</td><td>str</td><td>i64</td><td>i64</td><td>i64</td><td>i64</td><td>i64</td><td>i64</td><td>f64</td><td>f64</td><td>null</td><td>str</td><td>i64</td><td>i64</td><td>i64</td><td>i64</td><td>str</td><td>i64</td><td>i64</td><td>i64</td><td>str</td><td>str</td><td>f64</td><td>f64</td><td>f64</td><td>f64</td><td>f64</td><td>f64</td><td>f64</td><td>str</td><td>str</td><td>i64</td><td>i64</td><td>i64</td><td>i64</td><td>f64</td></tr></thead><tbody><tr><td>80260</td><td>&quot;https://www.airbnb.com/rooms/8…</td><td>20240610195007</td><td>&quot;2024-06-13&quot;</td><td>&quot;previous scrape&quot;</td><td>&quot;Nice studio in Jourdain&#x27;s vill…</td><td>null</td><td>null</td><td>&quot;https://a0.muscache.com/pictur…</td><td>333548</td><td>&quot;https://www.airbnb.com/users/s…</td><td>&quot;Charlotte&quot;</td><td>&quot;2011-01-03&quot;</td><td>&quot;Paris, France&quot;</td><td>&quot;My name is Charlotte, I&#x27;m 26 a…</td><td>&quot;N/A&quot;</td><td>&quot;N/A&quot;</td><td>&quot;N/A&quot;</td><td>&quot;f&quot;</td><td>&quot;https://a0.muscache.com/im/use…</td><td>&quot;https://a0.muscache.com/im/use…</td><td>&quot;Buttes-Chaumont - Belleville&quot;</td><td>1</td><td>1</td><td>&quot;[&#x27;email&#x27;, &#x27;phone&#x27;]&quot;</td><td>&quot;t&quot;</td><td>&quot;t&quot;</td><td>null</td><td>&quot;Ménilmontant&quot;</td><td>null</td><td>48.87131</td><td>2.38848</td><td>&quot;Entire rental unit&quot;</td><td>&quot;Entire home/apt&quot;</td><td>3</td><td>null</td><td>&quot;1 bath&quot;</td><td>1</td><td>null</td><td>&quot;[&quot;Hangers&quot;, &quot;Essentials&quot;, &quot;Wif…</td><td>null</td><td>2</td><td>730</td><td>2</td><td>2</td><td>730</td><td>730</td><td>2.0</td><td>730.0</td><td>null</td><td>&quot;t&quot;</td><td>0</td><td>0</td><td>0</td><td>0</td><td>&quot;2024-06-13&quot;</td><td>206</td><td>0</td><td>0</td><td>&quot;2011-04-18&quot;</td><td>&quot;2021-10-03&quot;</td><td>4.63</td><td>4.61</td><td>4.75</td><td>4.85</td><td>4.78</td><td>4.61</td><td>4.64</td><td>&quot;7512005340473&quot;</td><td>&quot;f&quot;</td><td>1</td><td>1</td><td>0</td><td>0</td><td>1.29</td></tr><tr><td>3109</td><td>&quot;https://www.airbnb.com/rooms/3…</td><td>20240610195007</td><td>&quot;2024-06-12&quot;</td><td>&quot;city scrape&quot;</td><td>&quot;zen and calm&quot;</td><td>&quot;Lovely Appartment with one bed…</td><td>&quot;Good restaurants&lt;br /&gt;very clo…</td><td>&quot;https://a0.muscache.com/pictur…</td><td>3631</td><td>&quot;https://www.airbnb.com/users/s…</td><td>&quot;Anne&quot;</td><td>&quot;2008-10-14&quot;</td><td>&quot;Paris, France&quot;</td><td>null</td><td>&quot;N/A&quot;</td><td>&quot;N/A&quot;</td><td>&quot;80%&quot;</td><td>&quot;f&quot;</td><td>&quot;https://a0.muscache.com/im/use…</td><td>&quot;https://a0.muscache.com/im/use…</td><td>&quot;Alésia&quot;</td><td>1</td><td>2</td><td>&quot;[&#x27;email&#x27;, &#x27;phone&#x27;]&quot;</td><td>&quot;t&quot;</td><td>&quot;t&quot;</td><td>&quot;Neighborhood highlights&quot;</td><td>&quot;Observatoire&quot;</td><td>null</td><td>48.83191</td><td>2.3187</td><td>&quot;Entire rental unit&quot;</td><td>&quot;Entire home/apt&quot;</td><td>2</td><td>1.0</td><td>&quot;1 bath&quot;</td><td>1</td><td>0</td><td>&quot;[&quot;Smart lock&quot;, &quot;Smoke alarm&quot;, …</td><td>&quot;$250.00&quot;</td><td>2</td><td>30</td><td>2</td><td>2</td><td>30</td><td>30</td><td>2.0</td><td>30.0</td><td>null</td><td>&quot;t&quot;</td><td>29</td><td>45</td><td>75</td><td>349</td><td>&quot;2024-06-12&quot;</td><td>4</td><td>0</td><td>0</td><td>&quot;2017-10-28&quot;</td><td>&quot;2019-10-24&quot;</td><td>5.0</td><td>5.0</td><td>5.0</td><td>5.0</td><td>5.0</td><td>5.0</td><td>5.0</td><td>&quot;7511409139079&quot;</td><td>&quot;t&quot;</td><td>1</td><td>1</td><td>0</td><td>0</td><td>0.05</td></tr><tr><td>80301</td><td>&quot;https://www.airbnb.com/rooms/8…</td><td>20240610195007</td><td>&quot;2024-06-13&quot;</td><td>&quot;city scrape&quot;</td><td>&quot;toits de Paris&quot;</td><td>&quot;On the top,sharing my space,yo…</td><td>&quot;SAFE neighborhood,late bus and…</td><td>&quot;https://a0.muscache.com/pictur…</td><td>433758</td><td>&quot;https://www.airbnb.com/users/s…</td><td>&quot;Genevieve&quot;</td><td>&quot;2011-03-10&quot;</td><td>&quot;Paris, France&quot;</td><td>&quot; Doctorat Sorbonne 1,Litteratu…</td><td>&quot;within an hour&quot;</td><td>&quot;100%&quot;</td><td>&quot;27%&quot;</td><td>&quot;t&quot;</td><td>&quot;https://a0.muscache.com/im/use…</td><td>&quot;https://a0.muscache.com/im/use…</td><td>&quot;Port-Royal&quot;</td><td>2</td><td>2</td><td>&quot;[&#x27;email&#x27;, &#x27;phone&#x27;]&quot;</td><td>&quot;t&quot;</td><td>&quot;t&quot;</td><td>&quot;Neighborhood highlights&quot;</td><td>&quot;Panthéon&quot;</td><td>null</td><td>48.83918</td><td>2.34699</td><td>&quot;Private room in rental unit&quot;</td><td>&quot;Private room&quot;</td><td>1</td><td>1.5</td><td>&quot;1.5 baths&quot;</td><td>1</td><td>1</td><td>&quot;[&quot;Stove&quot;, &quot;Host greets you&quot;, &quot;…</td><td>&quot;$60.00&quot;</td><td>30</td><td>190</td><td>30</td><td>30</td><td>190</td><td>190</td><td>30.0</td><td>190.0</td><td>null</td><td>&quot;t&quot;</td><td>11</td><td>12</td><td>12</td><td>145</td><td>&quot;2024-06-13&quot;</td><td>42</td><td>1</td><td>0</td><td>&quot;2011-06-15&quot;</td><td>&quot;2023-09-02&quot;</td><td>4.83</td><td>4.79</td><td>4.57</td><td>4.89</td><td>5.0</td><td>4.95</td><td>4.74</td><td>&quot;7510500029543&quot;</td><td>&quot;f&quot;</td><td>2</td><td>1</td><td>1</td><td>0</td><td>0.27</td></tr><tr><td>5396</td><td>&quot;https://www.airbnb.com/rooms/5…</td><td>20240610195007</td><td>&quot;2024-06-13&quot;</td><td>&quot;city scrape&quot;</td><td>&quot;Your perfect Paris studio on Î…</td><td>&quot;NEW SOFA-BED SINCE JUNE 2023, …</td><td>&quot;You are within walking distanc…</td><td>&quot;https://a0.muscache.com/pictur…</td><td>7903</td><td>&quot;https://www.airbnb.com/users/s…</td><td>&quot;Borzou&quot;</td><td>&quot;2009-02-14&quot;</td><td>&quot;Paris, France&quot;</td><td>&quot;We have spent a lot of time tr…</td><td>&quot;within an hour&quot;</td><td>&quot;100%&quot;</td><td>&quot;95%&quot;</td><td>&quot;f&quot;</td><td>&quot;https://a0.muscache.com/im/use…</td><td>&quot;https://a0.muscache.com/im/use…</td><td>&quot;Saint-Paul - Ile Saint-Louis&quot;</td><td>2</td><td>4</td><td>&quot;[&#x27;email&#x27;, &#x27;phone&#x27;]&quot;</td><td>&quot;t&quot;</td><td>&quot;t&quot;</td><td>&quot;Neighborhood highlights&quot;</td><td>&quot;Hôtel-de-Ville&quot;</td><td>null</td><td>48.85247</td><td>2.35835</td><td>&quot;Entire rental unit&quot;</td><td>&quot;Entire home/apt&quot;</td><td>2</td><td>1.0</td><td>&quot;1 bath&quot;</td><td>0</td><td>1</td><td>&quot;[&quot;Stove&quot;, &quot;Host greets you&quot;, &quot;…</td><td>&quot;$96.00&quot;</td><td>2</td><td>1125</td><td>1</td><td>2</td><td>1125</td><td>1125</td><td>1.0</td><td>1125.0</td><td>null</td><td>&quot;t&quot;</td><td>13</td><td>36</td><td>66</td><td>154</td><td>&quot;2024-06-13&quot;</td><td>403</td><td>64</td><td>2</td><td>&quot;2009-06-30&quot;</td><td>&quot;2024-05-24&quot;</td><td>4.61</td><td>4.63</td><td>4.58</td><td>4.81</td><td>4.84</td><td>4.96</td><td>4.59</td><td>&quot;7510402838018&quot;</td><td>&quot;f&quot;</td><td>1</td><td>1</td><td>0</td><td>0</td><td>2.21</td></tr><tr><td>7397</td><td>&quot;https://www.airbnb.com/rooms/7…</td><td>20240610195007</td><td>&quot;2024-06-13&quot;</td><td>&quot;city scrape&quot;</td><td>&quot;MARAIS - 2ROOMS APT - 2/4 PEOP…</td><td>&quot;VERY CONVENIENT, WITH THE BEST…</td><td>null</td><td>&quot;https://a0.muscache.com/pictur…</td><td>2626</td><td>&quot;https://www.airbnb.com/users/s…</td><td>&quot;Franck&quot;</td><td>&quot;2008-08-30&quot;</td><td>&quot;Paris, France&quot;</td><td>&quot;I am a writer,54, author of no…</td><td>&quot;within an hour&quot;</td><td>&quot;100%&quot;</td><td>&quot;68%&quot;</td><td>&quot;t&quot;</td><td>&quot;https://a0.muscache.com/im/pic…</td><td>&quot;https://a0.muscache.com/im/pic…</td><td>&quot;Le Marais&quot;</td><td>3</td><td>9</td><td>&quot;[&#x27;email&#x27;, &#x27;phone&#x27;]&quot;</td><td>&quot;t&quot;</td><td>&quot;t&quot;</td><td>null</td><td>&quot;Hôtel-de-Ville&quot;</td><td>null</td><td>48.85909</td><td>2.35315</td><td>&quot;Entire rental unit&quot;</td><td>&quot;Entire home/apt&quot;</td><td>4</td><td>1.0</td><td>&quot;1 bath&quot;</td><td>2</td><td>1</td><td>&quot;[&quot;Stove&quot;, &quot;Host greets you&quot;, &quot;…</td><td>&quot;$160.00&quot;</td><td>10</td><td>130</td><td>7</td><td>12</td><td>130</td><td>130</td><td>10.0</td><td>130.0</td><td>null</td><td>&quot;t&quot;</td><td>9</td><td>19</td><td>31</td><td>277</td><td>&quot;2024-06-13&quot;</td><td>354</td><td>21</td><td>1</td><td>&quot;2011-04-08&quot;</td><td>&quot;2024-05-20&quot;</td><td>4.73</td><td>4.8</td><td>4.45</td><td>4.92</td><td>4.89</td><td>4.93</td><td>4.73</td><td>&quot;7510400829623&quot;</td><td>&quot;f&quot;</td><td>3</td><td>3</td><td>0</td><td>0</td><td>2.21</td></tr></tbody></table></div>"
      ],
      "text/plain": [
       "shape: (5, 75)\n",
       "┌───────┬────────────┬────────────┬────────────┬───┬───────────┬───────────┬───────────┬───────────┐\n",
       "│ id    ┆ listing_ur ┆ scrape_id  ┆ last_scrap ┆ … ┆ calculate ┆ calculate ┆ calculate ┆ reviews_p │\n",
       "│ ---   ┆ l          ┆ ---        ┆ ed         ┆   ┆ d_host_li ┆ d_host_li ┆ d_host_li ┆ er_month  │\n",
       "│ i64   ┆ ---        ┆ i64        ┆ ---        ┆   ┆ stings_co ┆ stings_co ┆ stings_co ┆ ---       │\n",
       "│       ┆ str        ┆            ┆ str        ┆   ┆ unt…      ┆ unt…      ┆ unt…      ┆ f64       │\n",
       "│       ┆            ┆            ┆            ┆   ┆ ---       ┆ ---       ┆ ---       ┆           │\n",
       "│       ┆            ┆            ┆            ┆   ┆ i64       ┆ i64       ┆ i64       ┆           │\n",
       "╞═══════╪════════════╪════════════╪════════════╪═══╪═══════════╪═══════════╪═══════════╪═══════════╡\n",
       "│ 80260 ┆ https://ww ┆ 2024061019 ┆ 2024-06-13 ┆ … ┆ 1         ┆ 0         ┆ 0         ┆ 1.29      │\n",
       "│       ┆ w.airbnb.c ┆ 5007       ┆            ┆   ┆           ┆           ┆           ┆           │\n",
       "│       ┆ om/rooms/8 ┆            ┆            ┆   ┆           ┆           ┆           ┆           │\n",
       "│       ┆ …          ┆            ┆            ┆   ┆           ┆           ┆           ┆           │\n",
       "│ 3109  ┆ https://ww ┆ 2024061019 ┆ 2024-06-12 ┆ … ┆ 1         ┆ 0         ┆ 0         ┆ 0.05      │\n",
       "│       ┆ w.airbnb.c ┆ 5007       ┆            ┆   ┆           ┆           ┆           ┆           │\n",
       "│       ┆ om/rooms/3 ┆            ┆            ┆   ┆           ┆           ┆           ┆           │\n",
       "│       ┆ …          ┆            ┆            ┆   ┆           ┆           ┆           ┆           │\n",
       "│ 80301 ┆ https://ww ┆ 2024061019 ┆ 2024-06-13 ┆ … ┆ 1         ┆ 1         ┆ 0         ┆ 0.27      │\n",
       "│       ┆ w.airbnb.c ┆ 5007       ┆            ┆   ┆           ┆           ┆           ┆           │\n",
       "│       ┆ om/rooms/8 ┆            ┆            ┆   ┆           ┆           ┆           ┆           │\n",
       "│       ┆ …          ┆            ┆            ┆   ┆           ┆           ┆           ┆           │\n",
       "│ 5396  ┆ https://ww ┆ 2024061019 ┆ 2024-06-13 ┆ … ┆ 1         ┆ 0         ┆ 0         ┆ 2.21      │\n",
       "│       ┆ w.airbnb.c ┆ 5007       ┆            ┆   ┆           ┆           ┆           ┆           │\n",
       "│       ┆ om/rooms/5 ┆            ┆            ┆   ┆           ┆           ┆           ┆           │\n",
       "│       ┆ …          ┆            ┆            ┆   ┆           ┆           ┆           ┆           │\n",
       "│ 7397  ┆ https://ww ┆ 2024061019 ┆ 2024-06-13 ┆ … ┆ 3         ┆ 0         ┆ 0         ┆ 2.21      │\n",
       "│       ┆ w.airbnb.c ┆ 5007       ┆            ┆   ┆           ┆           ┆           ┆           │\n",
       "│       ┆ om/rooms/7 ┆            ┆            ┆   ┆           ┆           ┆           ┆           │\n",
       "│       ┆ …          ┆            ┆            ┆   ┆           ┆           ┆           ┆           │\n",
       "└───────┴────────────┴────────────┴────────────┴───┴───────────┴───────────┴───────────┴───────────┘"
      ]
     },
     "metadata": {},
     "output_type": "display_data"
    }
   ],
   "source": [
    "# Affichage des colonnes et d'un aperçu des données\n",
    "display(df.columns)\n",
    "print(\"Aperçu des données :\")\n",
    "display(df.head())"
   ]
  },
  {
   "cell_type": "markdown",
   "id": "9fea40f8",
   "metadata": {},
   "source": [
    "# requête n°1  : Calculer le taux de réservation moyen par mois par type de logement"
   ]
  },
  {
   "cell_type": "markdown",
   "id": "d3935497",
   "metadata": {},
   "source": [
    "# Par type de chambre"
   ]
  },
  {
   "cell_type": "code",
   "execution_count": null,
   "id": "f47ef89e",
   "metadata": {},
   "outputs": [
    {
     "data": {
      "text/html": [
       "<div><style>\n",
       ".dataframe > thead > tr,\n",
       ".dataframe > tbody > tr {\n",
       "  text-align: right;\n",
       "  white-space: pre-wrap;\n",
       "}\n",
       "</style>\n",
       "<small>shape: (4, 2)</small><table border=\"1\" class=\"dataframe\"><thead><tr><th>room_type</th><th>taux_moyen_mensuel_%</th></tr><tr><td>str</td><td>f64</td></tr></thead><tbody><tr><td>&quot;Entire home/apt&quot;</td><td>71.29</td></tr><tr><td>&quot;Private room&quot;</td><td>70.29</td></tr><tr><td>&quot;Shared room&quot;</td><td>60.72</td></tr><tr><td>&quot;Hotel room&quot;</td><td>53.53</td></tr></tbody></table></div>"
      ],
      "text/plain": [
       "shape: (4, 2)\n",
       "┌─────────────────┬──────────────────────┐\n",
       "│ room_type       ┆ taux_moyen_mensuel_% │\n",
       "│ ---             ┆ ---                  │\n",
       "│ str             ┆ f64                  │\n",
       "╞═════════════════╪══════════════════════╡\n",
       "│ Entire home/apt ┆ 71.29                │\n",
       "│ Private room    ┆ 70.29                │\n",
       "│ Shared room     ┆ 60.72                │\n",
       "│ Hotel room      ┆ 53.53                │\n",
       "└─────────────────┴──────────────────────┘"
      ]
     },
     "execution_count": 34,
     "metadata": {},
     "output_type": "execute_result"
    }
   ],
   "source": [
    "(df.with_columns(((30 - pl.col(\"availability_30\").cast(pl.Float64,strict=False))/30).alias(\"taux\"))\n",
    "   .group_by(\"room_type\")\n",
    "   .agg((pl.col(\"taux\").mean()*100).round(2).alias(\"taux_moyen_mensuel_%\"))\n",
    "   .sort(\"taux_moyen_mensuel_%\", descending=True))\n"
   ]
  },
  {
   "cell_type": "markdown",
   "id": "267ade0e",
   "metadata": {},
   "source": [
    "# Par type de propriété"
   ]
  },
  {
   "cell_type": "code",
   "execution_count": null,
   "id": "27c1f05f",
   "metadata": {},
   "outputs": [
    {
     "data": {
      "text/html": [
       "<div><style>\n",
       ".dataframe > thead > tr,\n",
       ".dataframe > tbody > tr {\n",
       "  text-align: right;\n",
       "  white-space: pre-wrap;\n",
       "}\n",
       "</style>\n",
       "<small>shape: (70, 2)</small><table border=\"1\" class=\"dataframe\"><thead><tr><th>property_type</th><th>taux_moyen_mensuel_%</th></tr><tr><td>str</td><td>f64</td></tr></thead><tbody><tr><td>&quot;Entire bungalow&quot;</td><td>100.0</td></tr><tr><td>&quot;Shared room in ice dome&quot;</td><td>100.0</td></tr><tr><td>&quot;Cave&quot;</td><td>100.0</td></tr><tr><td>&quot;Dome&quot;</td><td>100.0</td></tr><tr><td>&quot;Private room in cave&quot;</td><td>100.0</td></tr><tr><td>&hellip;</td><td>&hellip;</td></tr><tr><td>&quot;Shipping container&quot;</td><td>3.33</td></tr><tr><td>&quot;Tower&quot;</td><td>3.33</td></tr><tr><td>&quot;Entire bed and breakfast&quot;</td><td>0.0</td></tr><tr><td>&quot;Barn&quot;</td><td>0.0</td></tr><tr><td>&quot;Castle&quot;</td><td>0.0</td></tr></tbody></table></div>"
      ],
      "text/plain": [
       "shape: (70, 2)\n",
       "┌──────────────────────────┬──────────────────────┐\n",
       "│ property_type            ┆ taux_moyen_mensuel_% │\n",
       "│ ---                      ┆ ---                  │\n",
       "│ str                      ┆ f64                  │\n",
       "╞══════════════════════════╪══════════════════════╡\n",
       "│ Entire bungalow          ┆ 100.0                │\n",
       "│ Shared room in ice dome  ┆ 100.0                │\n",
       "│ Cave                     ┆ 100.0                │\n",
       "│ Dome                     ┆ 100.0                │\n",
       "│ Private room in cave     ┆ 100.0                │\n",
       "│ …                        ┆ …                    │\n",
       "│ Shipping container       ┆ 3.33                 │\n",
       "│ Tower                    ┆ 3.33                 │\n",
       "│ Entire bed and breakfast ┆ 0.0                  │\n",
       "│ Barn                     ┆ 0.0                  │\n",
       "│ Castle                   ┆ 0.0                  │\n",
       "└──────────────────────────┴──────────────────────┘"
      ]
     },
     "execution_count": 47,
     "metadata": {},
     "output_type": "execute_result"
    }
   ],
   "source": [
    "\n",
    "\n",
    "(df.with_columns(((30 - pl.col(\"availability_30\").cast(pl.Float64,strict=False))/30).alias(\"taux\"))\n",
    "   .group_by(\"property_type\")\n",
    "   .agg((pl.col(\"taux\").mean()*100).round(2).alias(\"taux_moyen_mensuel_%\"))\n",
    "   .sort(\"taux_moyen_mensuel_%\", descending=True)) \n"
   ]
  },
  {
   "cell_type": "markdown",
   "id": "08773136",
   "metadata": {},
   "source": [
    "# requête n°2 : Calculer la médiane des nombre d’avis pour tous les logements"
   ]
  },
  {
   "cell_type": "code",
   "execution_count": null,
   "id": "bed48a0b",
   "metadata": {},
   "outputs": [
    {
     "name": "stdout",
     "output_type": "stream",
     "text": [
      "Médiane du nombre d'avis pour tous les logements: 3.0\n"
     ]
    }
   ],
   "source": [
    "df.select(pl.col(\"number_of_reviews\").cast(pl.Float64,strict=False).median()).item()\n",
    "print(\"Médiane du nombre d'avis pour tous les logements:\", df.select(pl.col(\"number_of_reviews\").cast(pl.Float64,strict=False).median()).item())"
   ]
  },
  {
   "cell_type": "markdown",
   "id": "d5f9d787",
   "metadata": {},
   "source": [
    "# requête 3 : Calculer la médiane des nombre d’avis par catégorie d’hôte"
   ]
  },
  {
   "cell_type": "code",
   "execution_count": null,
   "id": "5e0f1906",
   "metadata": {},
   "outputs": [
    {
     "name": "stdout",
     "output_type": "stream",
     "text": [
      "Médiane du nombre d'avis par catégorie d'hôte :\n"
     ]
    },
    {
     "data": {
      "text/html": [
       "<div><style>\n",
       ".dataframe > thead > tr,\n",
       ".dataframe > tbody > tr {\n",
       "  text-align: right;\n",
       "  white-space: pre-wrap;\n",
       "}\n",
       "</style>\n",
       "<small>shape: (3, 2)</small><table border=\"1\" class=\"dataframe\"><thead><tr><th>host_is_superhost</th><th>median_number_of_reviews</th></tr><tr><td>str</td><td>f64</td></tr></thead><tbody><tr><td>&quot;t&quot;</td><td>24.0</td></tr><tr><td>null</td><td>12.5</td></tr><tr><td>&quot;f&quot;</td><td>2.0</td></tr></tbody></table></div>"
      ],
      "text/plain": [
       "shape: (3, 2)\n",
       "┌───────────────────┬──────────────────────────┐\n",
       "│ host_is_superhost ┆ median_number_of_reviews │\n",
       "│ ---               ┆ ---                      │\n",
       "│ str               ┆ f64                      │\n",
       "╞═══════════════════╪══════════════════════════╡\n",
       "│ t                 ┆ 24.0                     │\n",
       "│ null              ┆ 12.5                     │\n",
       "│ f                 ┆ 2.0                      │\n",
       "└───────────────────┴──────────────────────────┘"
      ]
     },
     "execution_count": 46,
     "metadata": {},
     "output_type": "execute_result"
    }
   ],
   "source": [
    "print(\"Médiane du nombre d'avis par catégorie d'hôte :\")\n",
    "\n",
    "(df.with_columns(pl.col(\"number_of_reviews\").cast(pl.Float64,strict=False))\n",
    "   .group_by(\"host_is_superhost\")\n",
    "   .agg(pl.col(\"number_of_reviews\").median().alias(\"median_number_of_reviews\"))\n",
    "   .sort(\"median_number_of_reviews\", descending=True))"
   ]
  },
  {
   "cell_type": "markdown",
   "id": "6d95e7d7",
   "metadata": {},
   "source": [
    "# Requete n°4 : Calculer la densité de logements par quartier de Paris"
   ]
  },
  {
   "cell_type": "code",
   "execution_count": null,
   "id": "67c73fd4",
   "metadata": {},
   "outputs": [
    {
     "name": "stderr",
     "output_type": "stream",
     "text": [
      "C:\\Users\\antoi\\AppData\\Local\\Temp\\ipykernel_18036\\1722937146.py:4: DeprecationWarning: `pl.count()` is deprecated. Please use `pl.len()` instead.\n",
      "(Deprecated in version 0.20.5)\n",
      "  .agg(pl.count().alias(\"nombre_logements\"))\n"
     ]
    },
    {
     "data": {
      "text/html": [
       "<div><style>\n",
       ".dataframe > thead > tr,\n",
       ".dataframe > tbody > tr {\n",
       "  text-align: right;\n",
       "  white-space: pre-wrap;\n",
       "}\n",
       "</style>\n",
       "<small>shape: (20, 3)</small><table border=\"1\" class=\"dataframe\"><thead><tr><th>neighbourhood_cleansed</th><th>nombre_logements</th><th>part_%</th></tr><tr><td>str</td><td>u32</td><td>f64</td></tr></thead><tbody><tr><td>&quot;Buttes-Montmartre&quot;</td><td>10555</td><td>11.01</td></tr><tr><td>&quot;Popincourt&quot;</td><td>8430</td><td>8.79</td></tr><tr><td>&quot;Vaugirard&quot;</td><td>7802</td><td>8.14</td></tr><tr><td>&quot;Batignolles-Monceau&quot;</td><td>6857</td><td>7.15</td></tr><tr><td>&quot;Entrepôt&quot;</td><td>6558</td><td>6.84</td></tr><tr><td>&hellip;</td><td>&hellip;</td><td>&hellip;</td></tr><tr><td>&quot;Élysée&quot;</td><td>2898</td><td>3.02</td></tr><tr><td>&quot;Hôtel-de-Ville&quot;</td><td>2821</td><td>2.94</td></tr><tr><td>&quot;Palais-Bourbon&quot;</td><td>2740</td><td>2.86</td></tr><tr><td>&quot;Luxembourg&quot;</td><td>2701</td><td>2.82</td></tr><tr><td>&quot;Louvre&quot;</td><td>2026</td><td>2.11</td></tr></tbody></table></div>"
      ],
      "text/plain": [
       "shape: (20, 3)\n",
       "┌────────────────────────┬──────────────────┬────────┐\n",
       "│ neighbourhood_cleansed ┆ nombre_logements ┆ part_% │\n",
       "│ ---                    ┆ ---              ┆ ---    │\n",
       "│ str                    ┆ u32              ┆ f64    │\n",
       "╞════════════════════════╪══════════════════╪════════╡\n",
       "│ Buttes-Montmartre      ┆ 10555            ┆ 11.01  │\n",
       "│ Popincourt             ┆ 8430             ┆ 8.79   │\n",
       "│ Vaugirard              ┆ 7802             ┆ 8.14   │\n",
       "│ Batignolles-Monceau    ┆ 6857             ┆ 7.15   │\n",
       "│ Entrepôt               ┆ 6558             ┆ 6.84   │\n",
       "│ …                      ┆ …                ┆ …      │\n",
       "│ Élysée                 ┆ 2898             ┆ 3.02   │\n",
       "│ Hôtel-de-Ville         ┆ 2821             ┆ 2.94   │\n",
       "│ Palais-Bourbon         ┆ 2740             ┆ 2.86   │\n",
       "│ Luxembourg             ┆ 2701             ┆ 2.82   │\n",
       "│ Louvre                 ┆ 2026             ┆ 2.11   │\n",
       "└────────────────────────┴──────────────────┴────────┘"
      ]
     },
     "execution_count": 53,
     "metadata": {},
     "output_type": "execute_result"
    }
   ],
   "source": [
    "total = df.height\n",
    "(df.filter(pl.col(\"neighbourhood_cleansed\").is_not_null())\n",
    "   .group_by(\"neighbourhood_cleansed\")\n",
    "   .agg(pl.count().alias(\"nombre_logements\"))\n",
    "   .with_columns((pl.col(\"nombre_logements\")/total*100).round(2).alias(\"part_%\"))\n",
    "   .sort(\"nombre_logements\", descending=True))\n"
   ]
  },
  {
   "cell_type": "markdown",
   "id": "74b52225",
   "metadata": {},
   "source": [
    "# requête n°5 : Identifier les quartiers avec le plus fort taux de réservation par mois"
   ]
  },
  {
   "cell_type": "code",
   "execution_count": null,
   "id": "c52d807a",
   "metadata": {},
   "outputs": [
    {
     "data": {
      "text/html": [
       "<div><style>\n",
       ".dataframe > thead > tr,\n",
       ".dataframe > tbody > tr {\n",
       "  text-align: right;\n",
       "  white-space: pre-wrap;\n",
       "}\n",
       "</style>\n",
       "<small>shape: (20, 2)</small><table border=\"1\" class=\"dataframe\"><thead><tr><th>neighbourhood_cleansed</th><th>taux_moyen_mensuel_%</th></tr><tr><td>str</td><td>f64</td></tr></thead><tbody><tr><td>&quot;Ménilmontant&quot;</td><td>75.42</td></tr><tr><td>&quot;Entrepôt&quot;</td><td>74.81</td></tr><tr><td>&quot;Popincourt&quot;</td><td>74.78</td></tr><tr><td>&quot;Buttes-Chaumont&quot;</td><td>74.13</td></tr><tr><td>&quot;Panthéon&quot;</td><td>73.14</td></tr><tr><td>&hellip;</td><td>&hellip;</td></tr><tr><td>&quot;Palais-Bourbon&quot;</td><td>68.87</td></tr><tr><td>&quot;Bourse&quot;</td><td>68.69</td></tr><tr><td>&quot;Luxembourg&quot;</td><td>66.45</td></tr><tr><td>&quot;Élysée&quot;</td><td>62.45</td></tr><tr><td>&quot;Passy&quot;</td><td>62.3</td></tr></tbody></table></div>"
      ],
      "text/plain": [
       "shape: (20, 2)\n",
       "┌────────────────────────┬──────────────────────┐\n",
       "│ neighbourhood_cleansed ┆ taux_moyen_mensuel_% │\n",
       "│ ---                    ┆ ---                  │\n",
       "│ str                    ┆ f64                  │\n",
       "╞════════════════════════╪══════════════════════╡\n",
       "│ Ménilmontant           ┆ 75.42                │\n",
       "│ Entrepôt               ┆ 74.81                │\n",
       "│ Popincourt             ┆ 74.78                │\n",
       "│ Buttes-Chaumont        ┆ 74.13                │\n",
       "│ Panthéon               ┆ 73.14                │\n",
       "│ …                      ┆ …                    │\n",
       "│ Palais-Bourbon         ┆ 68.87                │\n",
       "│ Bourse                 ┆ 68.69                │\n",
       "│ Luxembourg             ┆ 66.45                │\n",
       "│ Élysée                 ┆ 62.45                │\n",
       "│ Passy                  ┆ 62.3                 │\n",
       "└────────────────────────┴──────────────────────┘"
      ]
     },
     "execution_count": 50,
     "metadata": {},
     "output_type": "execute_result"
    }
   ],
   "source": [
    "(df.with_columns(((30 - pl.col(\"availability_30\").cast(pl.Float64,strict=False))/30).alias(\"taux\"))\n",
    "   .filter(pl.col(\"neighbourhood_cleansed\").is_not_null() & pl.col(\"taux\").is_not_null())\n",
    "   .group_by(\"neighbourhood_cleansed\")\n",
    "   .agg((pl.col(\"taux\").mean()*100).round(2).alias(\"taux_moyen_mensuel_%\"))\n",
    "   .sort(\"taux_moyen_mensuel_%\", descending=True))\n",
    "    "
   ]
  }
 ],
 "metadata": {
  "kernelspec": {
   "display_name": "Python 3",
   "language": "python",
   "name": "python3"
  },
  "language_info": {
   "codemirror_mode": {
    "name": "ipython",
    "version": 3
   },
   "file_extension": ".py",
   "mimetype": "text/x-python",
   "name": "python",
   "nbconvert_exporter": "python",
   "pygments_lexer": "ipython3",
   "version": "3.11.9"
  }
 },
 "nbformat": 4,
 "nbformat_minor": 5
}
